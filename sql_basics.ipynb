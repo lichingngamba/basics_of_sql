{
  "nbformat": 4,
  "nbformat_minor": 0,
  "metadata": {
    "colab": {
      "provenance": []
    },
    "kernelspec": {
      "name": "python3",
      "display_name": "Python 3"
    },
    "language_info": {
      "name": "python"
    }
  },
  "cells": [
    {
      "cell_type": "code",
      "execution_count": null,
      "metadata": {
        "colab": {
          "base_uri": "https://localhost:8080/",
          "height": 35
        },
        "id": "SCL_vFUzAQ0k",
        "outputId": "7d60613d-87d6-4353-bfce-903be9957a87"
      },
      "outputs": [
        {
          "output_type": "execute_result",
          "data": {
            "text/plain": [
              "'Connected: @None'"
            ],
            "application/vnd.google.colaboratory.intrinsic+json": {
              "type": "string"
            }
          },
          "metadata": {},
          "execution_count": 1
        }
      ],
      "source": [
        "%reload_ext sql\n",
        "%sql sqlite://"
      ]
    },
    {
      "cell_type": "code",
      "source": [
        "%%sql\n",
        "CREATE TABLE students (\n",
        "  id INTEGER PRIMARY KEY,\n",
        "  name TEXT NOT NULL,\n",
        "  gender TEXT NOT NULL,\n",
        "  usn varchar,\n",
        "  branch TEXT NOT NULL,\n",
        "  course_fee INTEGER NOT NULL\n",
        ");"
      ],
      "metadata": {
        "colab": {
          "base_uri": "https://localhost:8080/"
        },
        "id": "waMu9QFeBm3m",
        "outputId": "87f9044a-521c-45a6-95c1-650f8776bb7f"
      },
      "execution_count": null,
      "outputs": [
        {
          "output_type": "stream",
          "name": "stdout",
          "text": [
            " * sqlite://\n",
            "Done.\n"
          ]
        },
        {
          "output_type": "execute_result",
          "data": {
            "text/plain": [
              "[]"
            ]
          },
          "metadata": {},
          "execution_count": 76
        }
      ]
    },
    {
      "cell_type": "code",
      "source": [
        "%%sql\n",
        "INSERT INTO students values (1, 'lichingngamba tensubam', 'male', '21ETCS115004', 'DSE', 500 );\n",
        "INSERT INTO students values (2, 'jack', 'male', '21dsdd55', 'AI', 750);\n",
        "INSERT INTO students values (3, 'thoibi', 'female', '21ETC34erf', 'DSE', 600 );\n",
        "INSERT INTO students values (4, 'Dingnou', 'male', '21Effhja45', 'AI', 800 );\n",
        "INSERT INTO students values (5, 'liching', 'male', '21ETCS1fdf', 'DSE', 1000 );\n",
        "INSERT INTO students values (6, 'tensubam', 'male', '21ETCSfhdu', 'AIML', 400 );\n",
        "INSERT INTO students values (7, 'lic', 'female', '21ETCS1zfdfa', 'DSE', 900);\n",
        "INSERT INTO students values (8, 'lichi', 'male', '21ETCS1dfew', 'AIML', 600 );\n",
        "INSERT INTO students values (9, 'lichim', 'male', '21ETCS1fdweq', 'DSE', 400 );\n",
        "INSERT INTO students values (10, 'lioio', 'female', '21ETCS1sdf', 'AIML', 800 );\n",
        "INSERT INTO students values (11, 'lokkok', 'male', '21ETCS1dsd', 'AIML', 900 );\n",
        "INSERT INTO students values (12, 'lingthoi', 'female', '21ETCSffdf4', 'DSE', 500 );\n",
        "INSERT INTO students values (13, 'lisham', 'female', '21ETCffwe', 'AIML', 500 );\n",
        "INSERT INTO students values (14, 'djkjsk', 'male', '21ETCS11sdfd', 'DSE', 800 );\n",
        "INSERT INTO students values (15, 'tomba', 'male', '21ETCS1w343', 'DSE', 700 );\n",
        "INSERT INTO students values (16, 'namjun', 'male', '21ETCS1ddknjj87', 'AIML', 800 );\n",
        "INSERT INTO students values (17, 'MR cob', 'male', '21ETCS115ded3', 'DSE', 850);\n",
        "INSERT INTO students values (18, 'bala', 'female', '21ETCS11d54', 'AIML', 750);\n",
        "INSERT INTO students values (19, 'gokul', 'male', '21ETCSdwde56', 'AIML', 800 );\n",
        "INSERT INTO students values (20, 'kaiku', 'male', '21ETCS1dwd577', 'DSE', 900 );\n",
        "INSERT INTO students values (21, 'susmita', 'female', '21ETCS24drg', 'AIML', 1050 );\n",
        "INSERT INTO students values (22, 'aliabhat', 'female', '21ETCS1d43', 'AIML',600 );\n",
        "INSERT INTO students values (23, 'karena kapoor', 'female', '21ETCS1dfe35', 'DSE', 830 );\n",
        "INSERT INTO students values (24, 'Ram', 'male', '21ETCS13fdfs4', 'DSE', 750 );\n",
        "INSERT INTO students values (25, 'shita', 'female', '21ETCS45gza', 'AIML', 650 );"
      ],
      "metadata": {
        "colab": {
          "base_uri": "https://localhost:8080/"
        },
        "id": "Az8uTjdvE1SV",
        "outputId": "1870a8f8-f475-4db4-cb60-56f39a31d072"
      },
      "execution_count": null,
      "outputs": [
        {
          "output_type": "stream",
          "name": "stdout",
          "text": [
            " * sqlite://\n",
            "1 rows affected.\n",
            "1 rows affected.\n",
            "1 rows affected.\n",
            "1 rows affected.\n",
            "1 rows affected.\n",
            "1 rows affected.\n",
            "1 rows affected.\n",
            "1 rows affected.\n",
            "1 rows affected.\n",
            "1 rows affected.\n",
            "1 rows affected.\n",
            "1 rows affected.\n",
            "1 rows affected.\n",
            "1 rows affected.\n",
            "1 rows affected.\n",
            "1 rows affected.\n",
            "1 rows affected.\n",
            "1 rows affected.\n",
            "1 rows affected.\n",
            "1 rows affected.\n",
            "1 rows affected.\n",
            "1 rows affected.\n",
            "1 rows affected.\n",
            "1 rows affected.\n",
            "1 rows affected.\n"
          ]
        },
        {
          "output_type": "execute_result",
          "data": {
            "text/plain": [
              "[]"
            ]
          },
          "metadata": {},
          "execution_count": 77
        }
      ]
    },
    {
      "cell_type": "code",
      "source": [
        "%%sql\n",
        "\n",
        "SELECT * FROM students"
      ],
      "metadata": {
        "colab": {
          "base_uri": "https://localhost:8080/",
          "height": 598
        },
        "id": "eeHcrOUaL_rN",
        "outputId": "55e61256-00dc-4a09-cae5-2cb73bf9d1bc"
      },
      "execution_count": null,
      "outputs": [
        {
          "output_type": "stream",
          "name": "stdout",
          "text": [
            " * sqlite://\n",
            "Done.\n"
          ]
        },
        {
          "output_type": "execute_result",
          "data": {
            "text/plain": [
              "[(1, 'lichingngamba tensubam', 'male', '21ETCS115004', 'DSE', 500),\n",
              " (2, 'jack', 'male', '21dsdd55', 'AI', 750),\n",
              " (3, 'thoibi', 'female', '21ETC34erf', 'DSE', 600),\n",
              " (4, 'Dingnou', 'male', '21Effhja45', 'AI', 800),\n",
              " (5, 'liching', 'male', '21ETCS1fdf', 'DSE', 1000),\n",
              " (6, 'tensubam', 'male', '21ETCSfhdu', 'AIML', 400),\n",
              " (7, 'lic', 'female', '21ETCS1zfdfa', 'DSE', 900),\n",
              " (8, 'lichi', 'male', '21ETCS1dfew', 'AIML', 600),\n",
              " (9, 'lichim', 'male', '21ETCS1fdweq', 'DSE', 400),\n",
              " (10, 'lioio', 'female', '21ETCS1sdf', 'AIML', 800),\n",
              " (11, 'lokkok', 'male', '21ETCS1dsd', 'AIML', 900),\n",
              " (12, 'lingthoi', 'female', '21ETCSffdf4', 'DSE', 500),\n",
              " (13, 'lisham', 'female', '21ETCffwe', 'AIML', 500),\n",
              " (14, 'djkjsk', 'male', '21ETCS11sdfd', 'DSE', 800),\n",
              " (15, 'tomba', 'male', '21ETCS1w343', 'DSE', 700),\n",
              " (16, 'namjun', 'male', '21ETCS1ddknjj87', 'AIML', 800),\n",
              " (17, 'MR cob', 'male', '21ETCS115ded3', 'DSE', 850),\n",
              " (18, 'bala', 'female', '21ETCS11d54', 'AIML', 750),\n",
              " (19, 'gokul', 'male', '21ETCSdwde56', 'AIML', 800),\n",
              " (20, 'kaiku', 'male', '21ETCS1dwd577', 'DSE', 900),\n",
              " (21, 'susmita', 'female', '21ETCS24drg', 'AIML', 1050),\n",
              " (22, 'aliabhat', 'female', '21ETCS1d43', 'AIML', 600),\n",
              " (23, 'karena kapoor', 'female', '21ETCS1dfe35', 'DSE', 830),\n",
              " (24, 'Ram', 'male', '21ETCS13fdfs4', 'DSE', 750),\n",
              " (25, 'shita', 'female', '21ETCS45gza', 'AIML', 650)]"
            ],
            "text/html": [
              "<table>\n",
              "    <thead>\n",
              "        <tr>\n",
              "            <th>id</th>\n",
              "            <th>name</th>\n",
              "            <th>gender</th>\n",
              "            <th>usn</th>\n",
              "            <th>branch</th>\n",
              "            <th>course_fee</th>\n",
              "        </tr>\n",
              "    </thead>\n",
              "    <tbody>\n",
              "        <tr>\n",
              "            <td>1</td>\n",
              "            <td>lichingngamba tensubam</td>\n",
              "            <td>male</td>\n",
              "            <td>21ETCS115004</td>\n",
              "            <td>DSE</td>\n",
              "            <td>500</td>\n",
              "        </tr>\n",
              "        <tr>\n",
              "            <td>2</td>\n",
              "            <td>jack</td>\n",
              "            <td>male</td>\n",
              "            <td>21dsdd55</td>\n",
              "            <td>AI</td>\n",
              "            <td>750</td>\n",
              "        </tr>\n",
              "        <tr>\n",
              "            <td>3</td>\n",
              "            <td>thoibi</td>\n",
              "            <td>female</td>\n",
              "            <td>21ETC34erf</td>\n",
              "            <td>DSE</td>\n",
              "            <td>600</td>\n",
              "        </tr>\n",
              "        <tr>\n",
              "            <td>4</td>\n",
              "            <td>Dingnou</td>\n",
              "            <td>male</td>\n",
              "            <td>21Effhja45</td>\n",
              "            <td>AI</td>\n",
              "            <td>800</td>\n",
              "        </tr>\n",
              "        <tr>\n",
              "            <td>5</td>\n",
              "            <td>liching</td>\n",
              "            <td>male</td>\n",
              "            <td>21ETCS1fdf</td>\n",
              "            <td>DSE</td>\n",
              "            <td>1000</td>\n",
              "        </tr>\n",
              "        <tr>\n",
              "            <td>6</td>\n",
              "            <td>tensubam</td>\n",
              "            <td>male</td>\n",
              "            <td>21ETCSfhdu</td>\n",
              "            <td>AIML</td>\n",
              "            <td>400</td>\n",
              "        </tr>\n",
              "        <tr>\n",
              "            <td>7</td>\n",
              "            <td>lic</td>\n",
              "            <td>female</td>\n",
              "            <td>21ETCS1zfdfa</td>\n",
              "            <td>DSE</td>\n",
              "            <td>900</td>\n",
              "        </tr>\n",
              "        <tr>\n",
              "            <td>8</td>\n",
              "            <td>lichi</td>\n",
              "            <td>male</td>\n",
              "            <td>21ETCS1dfew</td>\n",
              "            <td>AIML</td>\n",
              "            <td>600</td>\n",
              "        </tr>\n",
              "        <tr>\n",
              "            <td>9</td>\n",
              "            <td>lichim</td>\n",
              "            <td>male</td>\n",
              "            <td>21ETCS1fdweq</td>\n",
              "            <td>DSE</td>\n",
              "            <td>400</td>\n",
              "        </tr>\n",
              "        <tr>\n",
              "            <td>10</td>\n",
              "            <td>lioio</td>\n",
              "            <td>female</td>\n",
              "            <td>21ETCS1sdf</td>\n",
              "            <td>AIML</td>\n",
              "            <td>800</td>\n",
              "        </tr>\n",
              "        <tr>\n",
              "            <td>11</td>\n",
              "            <td>lokkok</td>\n",
              "            <td>male</td>\n",
              "            <td>21ETCS1dsd</td>\n",
              "            <td>AIML</td>\n",
              "            <td>900</td>\n",
              "        </tr>\n",
              "        <tr>\n",
              "            <td>12</td>\n",
              "            <td>lingthoi</td>\n",
              "            <td>female</td>\n",
              "            <td>21ETCSffdf4</td>\n",
              "            <td>DSE</td>\n",
              "            <td>500</td>\n",
              "        </tr>\n",
              "        <tr>\n",
              "            <td>13</td>\n",
              "            <td>lisham</td>\n",
              "            <td>female</td>\n",
              "            <td>21ETCffwe</td>\n",
              "            <td>AIML</td>\n",
              "            <td>500</td>\n",
              "        </tr>\n",
              "        <tr>\n",
              "            <td>14</td>\n",
              "            <td>djkjsk</td>\n",
              "            <td>male</td>\n",
              "            <td>21ETCS11sdfd</td>\n",
              "            <td>DSE</td>\n",
              "            <td>800</td>\n",
              "        </tr>\n",
              "        <tr>\n",
              "            <td>15</td>\n",
              "            <td>tomba</td>\n",
              "            <td>male</td>\n",
              "            <td>21ETCS1w343</td>\n",
              "            <td>DSE</td>\n",
              "            <td>700</td>\n",
              "        </tr>\n",
              "        <tr>\n",
              "            <td>16</td>\n",
              "            <td>namjun</td>\n",
              "            <td>male</td>\n",
              "            <td>21ETCS1ddknjj87</td>\n",
              "            <td>AIML</td>\n",
              "            <td>800</td>\n",
              "        </tr>\n",
              "        <tr>\n",
              "            <td>17</td>\n",
              "            <td>MR cob</td>\n",
              "            <td>male</td>\n",
              "            <td>21ETCS115ded3</td>\n",
              "            <td>DSE</td>\n",
              "            <td>850</td>\n",
              "        </tr>\n",
              "        <tr>\n",
              "            <td>18</td>\n",
              "            <td>bala</td>\n",
              "            <td>female</td>\n",
              "            <td>21ETCS11d54</td>\n",
              "            <td>AIML</td>\n",
              "            <td>750</td>\n",
              "        </tr>\n",
              "        <tr>\n",
              "            <td>19</td>\n",
              "            <td>gokul</td>\n",
              "            <td>male</td>\n",
              "            <td>21ETCSdwde56</td>\n",
              "            <td>AIML</td>\n",
              "            <td>800</td>\n",
              "        </tr>\n",
              "        <tr>\n",
              "            <td>20</td>\n",
              "            <td>kaiku</td>\n",
              "            <td>male</td>\n",
              "            <td>21ETCS1dwd577</td>\n",
              "            <td>DSE</td>\n",
              "            <td>900</td>\n",
              "        </tr>\n",
              "        <tr>\n",
              "            <td>21</td>\n",
              "            <td>susmita</td>\n",
              "            <td>female</td>\n",
              "            <td>21ETCS24drg</td>\n",
              "            <td>AIML</td>\n",
              "            <td>1050</td>\n",
              "        </tr>\n",
              "        <tr>\n",
              "            <td>22</td>\n",
              "            <td>aliabhat</td>\n",
              "            <td>female</td>\n",
              "            <td>21ETCS1d43</td>\n",
              "            <td>AIML</td>\n",
              "            <td>600</td>\n",
              "        </tr>\n",
              "        <tr>\n",
              "            <td>23</td>\n",
              "            <td>karena kapoor</td>\n",
              "            <td>female</td>\n",
              "            <td>21ETCS1dfe35</td>\n",
              "            <td>DSE</td>\n",
              "            <td>830</td>\n",
              "        </tr>\n",
              "        <tr>\n",
              "            <td>24</td>\n",
              "            <td>Ram</td>\n",
              "            <td>male</td>\n",
              "            <td>21ETCS13fdfs4</td>\n",
              "            <td>DSE</td>\n",
              "            <td>750</td>\n",
              "        </tr>\n",
              "        <tr>\n",
              "            <td>25</td>\n",
              "            <td>shita</td>\n",
              "            <td>female</td>\n",
              "            <td>21ETCS45gza</td>\n",
              "            <td>AIML</td>\n",
              "            <td>650</td>\n",
              "        </tr>\n",
              "    </tbody>\n",
              "</table>"
            ]
          },
          "metadata": {},
          "execution_count": 78
        }
      ]
    },
    {
      "cell_type": "code",
      "source": [
        "%%sql\n",
        "\n",
        "SELECT * FROM students LIMIT 5;"
      ],
      "metadata": {
        "colab": {
          "base_uri": "https://localhost:8080/",
          "height": 179
        },
        "id": "Ec-690dxZUGy",
        "outputId": "426b0c82-1446-4fcc-f8cc-c12771781826"
      },
      "execution_count": null,
      "outputs": [
        {
          "output_type": "stream",
          "name": "stdout",
          "text": [
            " * sqlite://\n",
            "Done.\n"
          ]
        },
        {
          "output_type": "execute_result",
          "data": {
            "text/plain": [
              "[(1, 'lichingngamba tensubam', 'male', '21ETCS115004', 'DSE', 500),\n",
              " (2, 'jack', 'male', '21dsdd55', 'AI', 750),\n",
              " (3, 'thoibi', 'female', '21ETC34erf', 'DSE', 600),\n",
              " (4, 'Dingnou', 'male', '21Effhja45', 'AI', 800),\n",
              " (5, 'liching', 'male', '21ETCS1fdf', 'DSE', 1000)]"
            ],
            "text/html": [
              "<table>\n",
              "    <thead>\n",
              "        <tr>\n",
              "            <th>id</th>\n",
              "            <th>name</th>\n",
              "            <th>gender</th>\n",
              "            <th>usn</th>\n",
              "            <th>branch</th>\n",
              "            <th>course_fee</th>\n",
              "        </tr>\n",
              "    </thead>\n",
              "    <tbody>\n",
              "        <tr>\n",
              "            <td>1</td>\n",
              "            <td>lichingngamba tensubam</td>\n",
              "            <td>male</td>\n",
              "            <td>21ETCS115004</td>\n",
              "            <td>DSE</td>\n",
              "            <td>500</td>\n",
              "        </tr>\n",
              "        <tr>\n",
              "            <td>2</td>\n",
              "            <td>jack</td>\n",
              "            <td>male</td>\n",
              "            <td>21dsdd55</td>\n",
              "            <td>AI</td>\n",
              "            <td>750</td>\n",
              "        </tr>\n",
              "        <tr>\n",
              "            <td>3</td>\n",
              "            <td>thoibi</td>\n",
              "            <td>female</td>\n",
              "            <td>21ETC34erf</td>\n",
              "            <td>DSE</td>\n",
              "            <td>600</td>\n",
              "        </tr>\n",
              "        <tr>\n",
              "            <td>4</td>\n",
              "            <td>Dingnou</td>\n",
              "            <td>male</td>\n",
              "            <td>21Effhja45</td>\n",
              "            <td>AI</td>\n",
              "            <td>800</td>\n",
              "        </tr>\n",
              "        <tr>\n",
              "            <td>5</td>\n",
              "            <td>liching</td>\n",
              "            <td>male</td>\n",
              "            <td>21ETCS1fdf</td>\n",
              "            <td>DSE</td>\n",
              "            <td>1000</td>\n",
              "        </tr>\n",
              "    </tbody>\n",
              "</table>"
            ]
          },
          "metadata": {},
          "execution_count": 79
        }
      ]
    },
    {
      "cell_type": "code",
      "source": [
        "%%sql\n",
        "\n",
        "SELECT DISTINCT gender FROM students;"
      ],
      "metadata": {
        "colab": {
          "base_uri": "https://localhost:8080/",
          "height": 116
        },
        "id": "ZpUWOravZmJv",
        "outputId": "e2b2c987-b092-44d9-ff8e-9b532fbb365e"
      },
      "execution_count": null,
      "outputs": [
        {
          "output_type": "stream",
          "name": "stdout",
          "text": [
            " * sqlite://\n",
            "Done.\n"
          ]
        },
        {
          "output_type": "execute_result",
          "data": {
            "text/plain": [
              "[('male',), ('female',)]"
            ],
            "text/html": [
              "<table>\n",
              "    <thead>\n",
              "        <tr>\n",
              "            <th>gender</th>\n",
              "        </tr>\n",
              "    </thead>\n",
              "    <tbody>\n",
              "        <tr>\n",
              "            <td>male</td>\n",
              "        </tr>\n",
              "        <tr>\n",
              "            <td>female</td>\n",
              "        </tr>\n",
              "    </tbody>\n",
              "</table>"
            ]
          },
          "metadata": {},
          "execution_count": 80
        }
      ]
    },
    {
      "cell_type": "code",
      "source": [
        "%%sql\n",
        "\n",
        "SELECT * FROM students WHERE name='lisham';"
      ],
      "metadata": {
        "colab": {
          "base_uri": "https://localhost:8080/",
          "height": 95
        },
        "id": "ZBApn5svevkU",
        "outputId": "9d39363b-0310-4b65-eae9-5e172b657bb9"
      },
      "execution_count": null,
      "outputs": [
        {
          "output_type": "stream",
          "name": "stdout",
          "text": [
            " * sqlite://\n",
            "Done.\n"
          ]
        },
        {
          "output_type": "execute_result",
          "data": {
            "text/plain": [
              "[(13, 'lisham', 'female', '21ETCffwe', 'AIML', 500)]"
            ],
            "text/html": [
              "<table>\n",
              "    <thead>\n",
              "        <tr>\n",
              "            <th>id</th>\n",
              "            <th>name</th>\n",
              "            <th>gender</th>\n",
              "            <th>usn</th>\n",
              "            <th>branch</th>\n",
              "            <th>course_fee</th>\n",
              "        </tr>\n",
              "    </thead>\n",
              "    <tbody>\n",
              "        <tr>\n",
              "            <td>13</td>\n",
              "            <td>lisham</td>\n",
              "            <td>female</td>\n",
              "            <td>21ETCffwe</td>\n",
              "            <td>AIML</td>\n",
              "            <td>500</td>\n",
              "        </tr>\n",
              "    </tbody>\n",
              "</table>"
            ]
          },
          "metadata": {},
          "execution_count": 81
        }
      ]
    },
    {
      "cell_type": "code",
      "source": [
        "%%sql\n",
        "\n",
        "SELECT * FROM students ORDER BY id DESC LIMIT 5;"
      ],
      "metadata": {
        "colab": {
          "base_uri": "https://localhost:8080/",
          "height": 179
        },
        "id": "itZGvPq9f5B1",
        "outputId": "df0aadb2-fceb-4257-8312-0b6cd1421935"
      },
      "execution_count": null,
      "outputs": [
        {
          "output_type": "stream",
          "name": "stdout",
          "text": [
            " * sqlite://\n",
            "Done.\n"
          ]
        },
        {
          "output_type": "execute_result",
          "data": {
            "text/plain": [
              "[(25, 'shita', 'female', '21ETCS45gza', 'AIML', 650),\n",
              " (24, 'Ram', 'male', '21ETCS13fdfs4', 'DSE', 750),\n",
              " (23, 'karena kapoor', 'female', '21ETCS1dfe35', 'DSE', 830),\n",
              " (22, 'aliabhat', 'female', '21ETCS1d43', 'AIML', 600),\n",
              " (21, 'susmita', 'female', '21ETCS24drg', 'AIML', 1050)]"
            ],
            "text/html": [
              "<table>\n",
              "    <thead>\n",
              "        <tr>\n",
              "            <th>id</th>\n",
              "            <th>name</th>\n",
              "            <th>gender</th>\n",
              "            <th>usn</th>\n",
              "            <th>branch</th>\n",
              "            <th>course_fee</th>\n",
              "        </tr>\n",
              "    </thead>\n",
              "    <tbody>\n",
              "        <tr>\n",
              "            <td>25</td>\n",
              "            <td>shita</td>\n",
              "            <td>female</td>\n",
              "            <td>21ETCS45gza</td>\n",
              "            <td>AIML</td>\n",
              "            <td>650</td>\n",
              "        </tr>\n",
              "        <tr>\n",
              "            <td>24</td>\n",
              "            <td>Ram</td>\n",
              "            <td>male</td>\n",
              "            <td>21ETCS13fdfs4</td>\n",
              "            <td>DSE</td>\n",
              "            <td>750</td>\n",
              "        </tr>\n",
              "        <tr>\n",
              "            <td>23</td>\n",
              "            <td>karena kapoor</td>\n",
              "            <td>female</td>\n",
              "            <td>21ETCS1dfe35</td>\n",
              "            <td>DSE</td>\n",
              "            <td>830</td>\n",
              "        </tr>\n",
              "        <tr>\n",
              "            <td>22</td>\n",
              "            <td>aliabhat</td>\n",
              "            <td>female</td>\n",
              "            <td>21ETCS1d43</td>\n",
              "            <td>AIML</td>\n",
              "            <td>600</td>\n",
              "        </tr>\n",
              "        <tr>\n",
              "            <td>21</td>\n",
              "            <td>susmita</td>\n",
              "            <td>female</td>\n",
              "            <td>21ETCS24drg</td>\n",
              "            <td>AIML</td>\n",
              "            <td>1050</td>\n",
              "        </tr>\n",
              "    </tbody>\n",
              "</table>"
            ]
          },
          "metadata": {},
          "execution_count": 82
        }
      ]
    },
    {
      "cell_type": "code",
      "source": [
        "%%sql\n",
        "\n",
        "SELECT name AS std_name, gender AS sex FROM students limit 6;"
      ],
      "metadata": {
        "colab": {
          "base_uri": "https://localhost:8080/",
          "height": 200
        },
        "id": "Gy7d0Z65hsqj",
        "outputId": "6c3187e6-7ea9-4f20-fa2d-54c989437ad9"
      },
      "execution_count": null,
      "outputs": [
        {
          "output_type": "stream",
          "name": "stdout",
          "text": [
            " * sqlite://\n",
            "Done.\n"
          ]
        },
        {
          "output_type": "execute_result",
          "data": {
            "text/plain": [
              "[('lichingngamba tensubam', 'male'),\n",
              " ('jack', 'male'),\n",
              " ('thoibi', 'female'),\n",
              " ('Dingnou', 'male'),\n",
              " ('liching', 'male'),\n",
              " ('tensubam', 'male')]"
            ],
            "text/html": [
              "<table>\n",
              "    <thead>\n",
              "        <tr>\n",
              "            <th>std_name</th>\n",
              "            <th>sex</th>\n",
              "        </tr>\n",
              "    </thead>\n",
              "    <tbody>\n",
              "        <tr>\n",
              "            <td>lichingngamba tensubam</td>\n",
              "            <td>male</td>\n",
              "        </tr>\n",
              "        <tr>\n",
              "            <td>jack</td>\n",
              "            <td>male</td>\n",
              "        </tr>\n",
              "        <tr>\n",
              "            <td>thoibi</td>\n",
              "            <td>female</td>\n",
              "        </tr>\n",
              "        <tr>\n",
              "            <td>Dingnou</td>\n",
              "            <td>male</td>\n",
              "        </tr>\n",
              "        <tr>\n",
              "            <td>liching</td>\n",
              "            <td>male</td>\n",
              "        </tr>\n",
              "        <tr>\n",
              "            <td>tensubam</td>\n",
              "            <td>male</td>\n",
              "        </tr>\n",
              "    </tbody>\n",
              "</table>"
            ]
          },
          "metadata": {},
          "execution_count": 83
        }
      ]
    },
    {
      "cell_type": "code",
      "source": [
        "%%sql\n",
        "\n",
        "SELECT branch, Count(*) FROM students GROUP BY branch;"
      ],
      "metadata": {
        "colab": {
          "base_uri": "https://localhost:8080/",
          "height": 137
        },
        "id": "SwtPBzrCiD4e",
        "outputId": "b963c585-89fa-495f-8093-f5363dc5e905"
      },
      "execution_count": null,
      "outputs": [
        {
          "output_type": "stream",
          "name": "stdout",
          "text": [
            " * sqlite://\n",
            "Done.\n"
          ]
        },
        {
          "output_type": "execute_result",
          "data": {
            "text/plain": [
              "[('AI', 2), ('AIML', 11), ('DSE', 12)]"
            ],
            "text/html": [
              "<table>\n",
              "    <thead>\n",
              "        <tr>\n",
              "            <th>branch</th>\n",
              "            <th>Count(*)</th>\n",
              "        </tr>\n",
              "    </thead>\n",
              "    <tbody>\n",
              "        <tr>\n",
              "            <td>AI</td>\n",
              "            <td>2</td>\n",
              "        </tr>\n",
              "        <tr>\n",
              "            <td>AIML</td>\n",
              "            <td>11</td>\n",
              "        </tr>\n",
              "        <tr>\n",
              "            <td>DSE</td>\n",
              "            <td>12</td>\n",
              "        </tr>\n",
              "    </tbody>\n",
              "</table>"
            ]
          },
          "metadata": {},
          "execution_count": 85
        }
      ]
    },
    {
      "cell_type": "code",
      "source": [
        "%%sql\n",
        "\n",
        "SELECT AVG(course_fee) FROM students;"
      ],
      "metadata": {
        "id": "bRSszJ6rociG",
        "colab": {
          "base_uri": "https://localhost:8080/",
          "height": 95
        },
        "outputId": "6775d0b1-20c7-44e2-d06a-c915581be39c"
      },
      "execution_count": null,
      "outputs": [
        {
          "output_type": "stream",
          "name": "stdout",
          "text": [
            " * sqlite://\n",
            "Done.\n"
          ]
        },
        {
          "output_type": "execute_result",
          "data": {
            "text/plain": [
              "[(725.2,)]"
            ],
            "text/html": [
              "<table>\n",
              "    <thead>\n",
              "        <tr>\n",
              "            <th>AVG(course_fee)</th>\n",
              "        </tr>\n",
              "    </thead>\n",
              "    <tbody>\n",
              "        <tr>\n",
              "            <td>725.2</td>\n",
              "        </tr>\n",
              "    </tbody>\n",
              "</table>"
            ]
          },
          "metadata": {},
          "execution_count": 86
        }
      ]
    },
    {
      "cell_type": "code",
      "source": [
        "%%sql\n",
        "\n",
        "SELECT COUNT(*) FROM students;"
      ],
      "metadata": {
        "colab": {
          "base_uri": "https://localhost:8080/",
          "height": 95
        },
        "id": "PEd4CKGZuHOc",
        "outputId": "3822feba-d80b-4e8e-f8fa-721e60500a6c"
      },
      "execution_count": null,
      "outputs": [
        {
          "output_type": "stream",
          "name": "stdout",
          "text": [
            " * sqlite://\n",
            "Done.\n"
          ]
        },
        {
          "output_type": "execute_result",
          "data": {
            "text/plain": [
              "[(25,)]"
            ],
            "text/html": [
              "<table>\n",
              "    <thead>\n",
              "        <tr>\n",
              "            <th>COUNT(*)</th>\n",
              "        </tr>\n",
              "    </thead>\n",
              "    <tbody>\n",
              "        <tr>\n",
              "            <td>25</td>\n",
              "        </tr>\n",
              "    </tbody>\n",
              "</table>"
            ]
          },
          "metadata": {},
          "execution_count": 87
        }
      ]
    },
    {
      "cell_type": "code",
      "source": [
        "%%sql\n",
        "\n",
        "SELECT COUNT ( DISTINCT branch ) FROM students;"
      ],
      "metadata": {
        "colab": {
          "base_uri": "https://localhost:8080/",
          "height": 95
        },
        "id": "wVlJKtWyuYi-",
        "outputId": "df004576-7f91-49d6-ad01-d01cd2e14178"
      },
      "execution_count": null,
      "outputs": [
        {
          "output_type": "stream",
          "name": "stdout",
          "text": [
            " * sqlite://\n",
            "Done.\n"
          ]
        },
        {
          "output_type": "execute_result",
          "data": {
            "text/plain": [
              "[(3,)]"
            ],
            "text/html": [
              "<table>\n",
              "    <thead>\n",
              "        <tr>\n",
              "            <th>COUNT ( DISTINCT branch )</th>\n",
              "        </tr>\n",
              "    </thead>\n",
              "    <tbody>\n",
              "        <tr>\n",
              "            <td>3</td>\n",
              "        </tr>\n",
              "    </tbody>\n",
              "</table>"
            ]
          },
          "metadata": {},
          "execution_count": 88
        }
      ]
    },
    {
      "cell_type": "code",
      "source": [
        "%%sql\n",
        "\n",
        "SELECT SUM(course_fee) FROM students;"
      ],
      "metadata": {
        "colab": {
          "base_uri": "https://localhost:8080/",
          "height": 95
        },
        "id": "IgR2Gq-Du11m",
        "outputId": "83d61f42-5e79-4aef-ff6d-f2697a289fdd"
      },
      "execution_count": null,
      "outputs": [
        {
          "output_type": "stream",
          "name": "stdout",
          "text": [
            " * sqlite://\n",
            "Done.\n"
          ]
        },
        {
          "output_type": "execute_result",
          "data": {
            "text/plain": [
              "[(18130,)]"
            ],
            "text/html": [
              "<table>\n",
              "    <thead>\n",
              "        <tr>\n",
              "            <th>SUM(course_fee)</th>\n",
              "        </tr>\n",
              "    </thead>\n",
              "    <tbody>\n",
              "        <tr>\n",
              "            <td>18130</td>\n",
              "        </tr>\n",
              "    </tbody>\n",
              "</table>"
            ]
          },
          "metadata": {},
          "execution_count": 89
        }
      ]
    },
    {
      "cell_type": "code",
      "source": [
        "%%sql\n",
        "\n",
        "SELECT MIN(course_fee) AS lowest_course_fee FROM students;"
      ],
      "metadata": {
        "colab": {
          "base_uri": "https://localhost:8080/",
          "height": 95
        },
        "id": "Szss3rhJ_uks",
        "outputId": "ae49fa62-c824-414d-d1d3-462f9ef60496"
      },
      "execution_count": null,
      "outputs": [
        {
          "output_type": "stream",
          "name": "stdout",
          "text": [
            " * sqlite://\n",
            "Done.\n"
          ]
        },
        {
          "output_type": "execute_result",
          "data": {
            "text/plain": [
              "[(400,)]"
            ],
            "text/html": [
              "<table>\n",
              "    <thead>\n",
              "        <tr>\n",
              "            <th>lowest_course_fee</th>\n",
              "        </tr>\n",
              "    </thead>\n",
              "    <tbody>\n",
              "        <tr>\n",
              "            <td>400</td>\n",
              "        </tr>\n",
              "    </tbody>\n",
              "</table>"
            ]
          },
          "metadata": {},
          "execution_count": 97
        }
      ]
    },
    {
      "cell_type": "code",
      "source": [
        "%%sql\n",
        "\n",
        "SELECT MAX(course_fee) AS higest_course_fee FROM students;"
      ],
      "metadata": {
        "colab": {
          "base_uri": "https://localhost:8080/",
          "height": 95
        },
        "id": "fUsY7tYLvzGq",
        "outputId": "db3687c4-5717-45e2-a5ce-b769b070c9d3"
      },
      "execution_count": null,
      "outputs": [
        {
          "output_type": "stream",
          "name": "stdout",
          "text": [
            " * sqlite://\n",
            "Done.\n"
          ]
        },
        {
          "output_type": "execute_result",
          "data": {
            "text/plain": [
              "[(1050,)]"
            ],
            "text/html": [
              "<table>\n",
              "    <thead>\n",
              "        <tr>\n",
              "            <th>higest_course_fee</th>\n",
              "        </tr>\n",
              "    </thead>\n",
              "    <tbody>\n",
              "        <tr>\n",
              "            <td>1050</td>\n",
              "        </tr>\n",
              "    </tbody>\n",
              "</table>"
            ]
          },
          "metadata": {},
          "execution_count": 91
        }
      ]
    },
    {
      "cell_type": "code",
      "source": [
        "%%sql\n",
        "\n",
        "SELECT branch, Count(*) FROM students GROUP BY branch HAVING COUNT(branch) > 10;"
      ],
      "metadata": {
        "colab": {
          "base_uri": "https://localhost:8080/",
          "height": 116
        },
        "id": "mKVJ_J25xK8P",
        "outputId": "1053215a-1fdc-4639-a4d5-829c44cd8e53"
      },
      "execution_count": null,
      "outputs": [
        {
          "output_type": "stream",
          "name": "stdout",
          "text": [
            " * sqlite://\n",
            "Done.\n"
          ]
        },
        {
          "output_type": "execute_result",
          "data": {
            "text/plain": [
              "[('AIML', 11), ('DSE', 12)]"
            ],
            "text/html": [
              "<table>\n",
              "    <thead>\n",
              "        <tr>\n",
              "            <th>branch</th>\n",
              "            <th>Count(*)</th>\n",
              "        </tr>\n",
              "    </thead>\n",
              "    <tbody>\n",
              "        <tr>\n",
              "            <td>AIML</td>\n",
              "            <td>11</td>\n",
              "        </tr>\n",
              "        <tr>\n",
              "            <td>DSE</td>\n",
              "            <td>12</td>\n",
              "        </tr>\n",
              "    </tbody>\n",
              "</table>"
            ]
          },
          "metadata": {},
          "execution_count": 96
        }
      ]
    },
    {
      "cell_type": "markdown",
      "source": [
        "10.2 PFDS\n",
        " Create another table with minimum 2 columns (parameters) and perform the below operations:\n",
        "\n",
        "Combining Data: JOIN (LEFT, INNER, OUTER, RIGHT), UNION"
      ],
      "metadata": {
        "id": "Y2ERVJ9ZyvFl"
      }
    },
    {
      "cell_type": "code",
      "source": [
        "%%sql\n",
        "\n",
        "create table profile(\n",
        "  id INTEGER,\n",
        "  place TEXT NOT NULL\n",
        ")"
      ],
      "metadata": {
        "colab": {
          "base_uri": "https://localhost:8080/"
        },
        "id": "EaKAbQ5Ay202",
        "outputId": "f26b7f5b-cf83-464d-b4b5-7f4be23a55f2"
      },
      "execution_count": null,
      "outputs": [
        {
          "output_type": "stream",
          "name": "stdout",
          "text": [
            " * sqlite://\n",
            "Done.\n"
          ]
        },
        {
          "output_type": "execute_result",
          "data": {
            "text/plain": [
              "[]"
            ]
          },
          "metadata": {},
          "execution_count": 114
        }
      ]
    },
    {
      "cell_type": "code",
      "source": [
        "%%sql\n",
        "\n",
        "insert into profile values (1, 'manipur');\n",
        "insert into profile values (2, 'bangalore');\n",
        "insert into profile values (3, 'kerela');\n",
        "insert into profile values (4, 'tamil_nadu');\n"
      ],
      "metadata": {
        "colab": {
          "base_uri": "https://localhost:8080/"
        },
        "id": "NMWonA10Pmlf",
        "outputId": "19e2ec7e-7978-45cc-9b56-da4fbbc71a76"
      },
      "execution_count": null,
      "outputs": [
        {
          "output_type": "stream",
          "name": "stdout",
          "text": [
            " * sqlite://\n",
            "1 rows affected.\n",
            "1 rows affected.\n",
            "1 rows affected.\n",
            "1 rows affected.\n"
          ]
        },
        {
          "output_type": "execute_result",
          "data": {
            "text/plain": [
              "[]"
            ]
          },
          "metadata": {},
          "execution_count": 115
        }
      ]
    },
    {
      "cell_type": "code",
      "source": [
        "%%sql\n",
        "\n",
        "select * from profile;"
      ],
      "metadata": {
        "colab": {
          "base_uri": "https://localhost:8080/",
          "height": 158
        },
        "id": "b9O1dMdMQHG4",
        "outputId": "8c93d67f-91f7-4810-ba58-67b4f89f637e"
      },
      "execution_count": null,
      "outputs": [
        {
          "output_type": "stream",
          "name": "stdout",
          "text": [
            " * sqlite://\n",
            "Done.\n"
          ]
        },
        {
          "output_type": "execute_result",
          "data": {
            "text/plain": [
              "[(1, 'manipur'), (2, 'bangalore'), (3, 'kerela'), (4, 'tamil_nadu')]"
            ],
            "text/html": [
              "<table>\n",
              "    <thead>\n",
              "        <tr>\n",
              "            <th>id</th>\n",
              "            <th>place</th>\n",
              "        </tr>\n",
              "    </thead>\n",
              "    <tbody>\n",
              "        <tr>\n",
              "            <td>1</td>\n",
              "            <td>manipur</td>\n",
              "        </tr>\n",
              "        <tr>\n",
              "            <td>2</td>\n",
              "            <td>bangalore</td>\n",
              "        </tr>\n",
              "        <tr>\n",
              "            <td>3</td>\n",
              "            <td>kerela</td>\n",
              "        </tr>\n",
              "        <tr>\n",
              "            <td>4</td>\n",
              "            <td>tamil_nadu</td>\n",
              "        </tr>\n",
              "    </tbody>\n",
              "</table>"
            ]
          },
          "metadata": {},
          "execution_count": 142
        }
      ]
    },
    {
      "cell_type": "code",
      "source": [
        "%%sql\n",
        "#left join\n",
        "\n",
        "SELECT name, profile.place\n",
        "FROM students\n",
        "LEFT JOIN profile\n",
        "ON students.id = profile.id LIMIT 9;"
      ],
      "metadata": {
        "colab": {
          "base_uri": "https://localhost:8080/",
          "height": 263
        },
        "id": "OPvq-44PQNCa",
        "outputId": "1ef8a78f-2229-49a2-8a55-c12b22345d67"
      },
      "execution_count": null,
      "outputs": [
        {
          "output_type": "stream",
          "name": "stdout",
          "text": [
            " * sqlite://\n",
            "Done.\n"
          ]
        },
        {
          "output_type": "execute_result",
          "data": {
            "text/plain": [
              "[('lichingngamba tensubam', 'manipur'),\n",
              " ('jack', 'bangalore'),\n",
              " ('thoibi', 'kerela'),\n",
              " ('Dingnou', 'tamil_nadu'),\n",
              " ('liching', None),\n",
              " ('tensubam', None),\n",
              " ('lic', None),\n",
              " ('lichi', None),\n",
              " ('lichim', None)]"
            ],
            "text/html": [
              "<table>\n",
              "    <thead>\n",
              "        <tr>\n",
              "            <th>name</th>\n",
              "            <th>place</th>\n",
              "        </tr>\n",
              "    </thead>\n",
              "    <tbody>\n",
              "        <tr>\n",
              "            <td>lichingngamba tensubam</td>\n",
              "            <td>manipur</td>\n",
              "        </tr>\n",
              "        <tr>\n",
              "            <td>jack</td>\n",
              "            <td>bangalore</td>\n",
              "        </tr>\n",
              "        <tr>\n",
              "            <td>thoibi</td>\n",
              "            <td>kerela</td>\n",
              "        </tr>\n",
              "        <tr>\n",
              "            <td>Dingnou</td>\n",
              "            <td>tamil_nadu</td>\n",
              "        </tr>\n",
              "        <tr>\n",
              "            <td>liching</td>\n",
              "            <td>None</td>\n",
              "        </tr>\n",
              "        <tr>\n",
              "            <td>tensubam</td>\n",
              "            <td>None</td>\n",
              "        </tr>\n",
              "        <tr>\n",
              "            <td>lic</td>\n",
              "            <td>None</td>\n",
              "        </tr>\n",
              "        <tr>\n",
              "            <td>lichi</td>\n",
              "            <td>None</td>\n",
              "        </tr>\n",
              "        <tr>\n",
              "            <td>lichim</td>\n",
              "            <td>None</td>\n",
              "        </tr>\n",
              "    </tbody>\n",
              "</table>"
            ]
          },
          "metadata": {},
          "execution_count": 133
        }
      ]
    },
    {
      "cell_type": "code",
      "source": [
        "%%sql\n",
        "#inner join\n",
        "\n",
        "SELECT name, profile.place\n",
        "FROM students\n",
        "INNER JOIN profile\n",
        "ON students.id = profile.id;"
      ],
      "metadata": {
        "colab": {
          "base_uri": "https://localhost:8080/",
          "height": 158
        },
        "id": "wAci-hJjRoiR",
        "outputId": "4af5d26f-199c-49c5-a822-48175ff7c63e"
      },
      "execution_count": null,
      "outputs": [
        {
          "output_type": "stream",
          "name": "stdout",
          "text": [
            " * sqlite://\n",
            "Done.\n"
          ]
        },
        {
          "output_type": "execute_result",
          "data": {
            "text/plain": [
              "[('lichingngamba tensubam', 'manipur'),\n",
              " ('jack', 'bangalore'),\n",
              " ('thoibi', 'kerela'),\n",
              " ('Dingnou', 'tamil_nadu')]"
            ],
            "text/html": [
              "<table>\n",
              "    <thead>\n",
              "        <tr>\n",
              "            <th>name</th>\n",
              "            <th>place</th>\n",
              "        </tr>\n",
              "    </thead>\n",
              "    <tbody>\n",
              "        <tr>\n",
              "            <td>lichingngamba tensubam</td>\n",
              "            <td>manipur</td>\n",
              "        </tr>\n",
              "        <tr>\n",
              "            <td>jack</td>\n",
              "            <td>bangalore</td>\n",
              "        </tr>\n",
              "        <tr>\n",
              "            <td>thoibi</td>\n",
              "            <td>kerela</td>\n",
              "        </tr>\n",
              "        <tr>\n",
              "            <td>Dingnou</td>\n",
              "            <td>tamil_nadu</td>\n",
              "        </tr>\n",
              "    </tbody>\n",
              "</table>"
            ]
          },
          "metadata": {},
          "execution_count": 141
        }
      ]
    },
    {
      "cell_type": "code",
      "source": [
        "%%sql\n",
        "#right join\n",
        "\n",
        "SELECT place, students.name\n",
        "FROM profile\n",
        "LEFT JOIN students\n",
        "ON students.id = profile.id;"
      ],
      "metadata": {
        "colab": {
          "base_uri": "https://localhost:8080/",
          "height": 158
        },
        "id": "aZ7zwqHdRvi0",
        "outputId": "ecd5b6be-0235-44e7-a07c-b5ad24663bfa"
      },
      "execution_count": null,
      "outputs": [
        {
          "output_type": "stream",
          "name": "stdout",
          "text": [
            " * sqlite://\n",
            "Done.\n"
          ]
        },
        {
          "output_type": "execute_result",
          "data": {
            "text/plain": [
              "[('manipur', 'lichingngamba tensubam'),\n",
              " ('bangalore', 'jack'),\n",
              " ('kerela', 'thoibi'),\n",
              " ('tamil_nadu', 'Dingnou')]"
            ],
            "text/html": [
              "<table>\n",
              "    <thead>\n",
              "        <tr>\n",
              "            <th>place</th>\n",
              "            <th>name</th>\n",
              "        </tr>\n",
              "    </thead>\n",
              "    <tbody>\n",
              "        <tr>\n",
              "            <td>manipur</td>\n",
              "            <td>lichingngamba tensubam</td>\n",
              "        </tr>\n",
              "        <tr>\n",
              "            <td>bangalore</td>\n",
              "            <td>jack</td>\n",
              "        </tr>\n",
              "        <tr>\n",
              "            <td>kerela</td>\n",
              "            <td>thoibi</td>\n",
              "        </tr>\n",
              "        <tr>\n",
              "            <td>tamil_nadu</td>\n",
              "            <td>Dingnou</td>\n",
              "        </tr>\n",
              "    </tbody>\n",
              "</table>"
            ]
          },
          "metadata": {},
          "execution_count": 145
        }
      ]
    },
    {
      "cell_type": "code",
      "source": [
        "%%sql\n",
        "#union\n",
        "\n",
        "SELECT name FROM students\n",
        "UNION\n",
        "SELECT place FROM profile;\n"
      ],
      "metadata": {
        "colab": {
          "base_uri": "https://localhost:8080/",
          "height": 682
        },
        "id": "tGF_61KQYGA2",
        "outputId": "86148da7-2626-49af-d03b-5ca566fea0b3"
      },
      "execution_count": null,
      "outputs": [
        {
          "output_type": "stream",
          "name": "stdout",
          "text": [
            " * sqlite://\n",
            "Done.\n"
          ]
        },
        {
          "output_type": "execute_result",
          "data": {
            "text/plain": [
              "[('Dingnou',),\n",
              " ('MR cob',),\n",
              " ('Ram',),\n",
              " ('aliabhat',),\n",
              " ('bala',),\n",
              " ('bangalore',),\n",
              " ('djkjsk',),\n",
              " ('gokul',),\n",
              " ('jack',),\n",
              " ('kaiku',),\n",
              " ('karena kapoor',),\n",
              " ('kerela',),\n",
              " ('lic',),\n",
              " ('lichi',),\n",
              " ('lichim',),\n",
              " ('liching',),\n",
              " ('lichingngamba tensubam',),\n",
              " ('lingthoi',),\n",
              " ('lioio',),\n",
              " ('lisham',),\n",
              " ('lokkok',),\n",
              " ('manipur',),\n",
              " ('namjun',),\n",
              " ('shita',),\n",
              " ('susmita',),\n",
              " ('tamil_nadu',),\n",
              " ('tensubam',),\n",
              " ('thoibi',),\n",
              " ('tomba',)]"
            ],
            "text/html": [
              "<table>\n",
              "    <thead>\n",
              "        <tr>\n",
              "            <th>name</th>\n",
              "        </tr>\n",
              "    </thead>\n",
              "    <tbody>\n",
              "        <tr>\n",
              "            <td>Dingnou</td>\n",
              "        </tr>\n",
              "        <tr>\n",
              "            <td>MR cob</td>\n",
              "        </tr>\n",
              "        <tr>\n",
              "            <td>Ram</td>\n",
              "        </tr>\n",
              "        <tr>\n",
              "            <td>aliabhat</td>\n",
              "        </tr>\n",
              "        <tr>\n",
              "            <td>bala</td>\n",
              "        </tr>\n",
              "        <tr>\n",
              "            <td>bangalore</td>\n",
              "        </tr>\n",
              "        <tr>\n",
              "            <td>djkjsk</td>\n",
              "        </tr>\n",
              "        <tr>\n",
              "            <td>gokul</td>\n",
              "        </tr>\n",
              "        <tr>\n",
              "            <td>jack</td>\n",
              "        </tr>\n",
              "        <tr>\n",
              "            <td>kaiku</td>\n",
              "        </tr>\n",
              "        <tr>\n",
              "            <td>karena kapoor</td>\n",
              "        </tr>\n",
              "        <tr>\n",
              "            <td>kerela</td>\n",
              "        </tr>\n",
              "        <tr>\n",
              "            <td>lic</td>\n",
              "        </tr>\n",
              "        <tr>\n",
              "            <td>lichi</td>\n",
              "        </tr>\n",
              "        <tr>\n",
              "            <td>lichim</td>\n",
              "        </tr>\n",
              "        <tr>\n",
              "            <td>liching</td>\n",
              "        </tr>\n",
              "        <tr>\n",
              "            <td>lichingngamba tensubam</td>\n",
              "        </tr>\n",
              "        <tr>\n",
              "            <td>lingthoi</td>\n",
              "        </tr>\n",
              "        <tr>\n",
              "            <td>lioio</td>\n",
              "        </tr>\n",
              "        <tr>\n",
              "            <td>lisham</td>\n",
              "        </tr>\n",
              "        <tr>\n",
              "            <td>lokkok</td>\n",
              "        </tr>\n",
              "        <tr>\n",
              "            <td>manipur</td>\n",
              "        </tr>\n",
              "        <tr>\n",
              "            <td>namjun</td>\n",
              "        </tr>\n",
              "        <tr>\n",
              "            <td>shita</td>\n",
              "        </tr>\n",
              "        <tr>\n",
              "            <td>susmita</td>\n",
              "        </tr>\n",
              "        <tr>\n",
              "            <td>tamil_nadu</td>\n",
              "        </tr>\n",
              "        <tr>\n",
              "            <td>tensubam</td>\n",
              "        </tr>\n",
              "        <tr>\n",
              "            <td>thoibi</td>\n",
              "        </tr>\n",
              "        <tr>\n",
              "            <td>tomba</td>\n",
              "        </tr>\n",
              "    </tbody>\n",
              "</table>"
            ]
          },
          "metadata": {},
          "execution_count": 150
        }
      ]
    },
    {
      "cell_type": "code",
      "source": [
        "#outerjoin\n",
        "%%sql\n",
        "\n",
        "SELECT name, profile.place\n",
        "FROM students\n",
        "JOIN profile\n",
        "ON students.id = profile.id;"
      ],
      "metadata": {
        "colab": {
          "base_uri": "https://localhost:8080/",
          "height": 158
        },
        "id": "NfCzUm5YfqgI",
        "outputId": "d2aa4bbc-2fd1-4995-b184-de8ec2a8c941"
      },
      "execution_count": null,
      "outputs": [
        {
          "output_type": "stream",
          "name": "stdout",
          "text": [
            " * sqlite://\n",
            "Done.\n"
          ]
        },
        {
          "output_type": "execute_result",
          "data": {
            "text/plain": [
              "[('lichingngamba tensubam', 'manipur'),\n",
              " ('jack', 'bangalore'),\n",
              " ('thoibi', 'kerela'),\n",
              " ('Dingnou', 'tamil_nadu')]"
            ],
            "text/html": [
              "<table>\n",
              "    <thead>\n",
              "        <tr>\n",
              "            <th>name</th>\n",
              "            <th>place</th>\n",
              "        </tr>\n",
              "    </thead>\n",
              "    <tbody>\n",
              "        <tr>\n",
              "            <td>lichingngamba tensubam</td>\n",
              "            <td>manipur</td>\n",
              "        </tr>\n",
              "        <tr>\n",
              "            <td>jack</td>\n",
              "            <td>bangalore</td>\n",
              "        </tr>\n",
              "        <tr>\n",
              "            <td>thoibi</td>\n",
              "            <td>kerela</td>\n",
              "        </tr>\n",
              "        <tr>\n",
              "            <td>Dingnou</td>\n",
              "            <td>tamil_nadu</td>\n",
              "        </tr>\n",
              "    </tbody>\n",
              "</table>"
            ]
          },
          "metadata": {},
          "execution_count": 176
        }
      ]
    }
  ]
}